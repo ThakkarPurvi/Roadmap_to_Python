{
  "cells": [
    {
      "cell_type": "code",
      "execution_count": null,
      "metadata": {
        "colab": {
          "background_save": true
        },
        "id": "vjhtfE1nIJct",
        "outputId": "ee594bee-23c4-4069-8e3c-4706c1398255"
      },
      "outputs": [
        {
          "name": "stdout",
          "output_type": "stream",
          "text": [
            "This is my 3rd Python session. \n",
            "- learning Operators in Python as on 24/09/2022 \n",
            "\n",
            " \u001b[95mMultiplication 5*3:\u001b[0m 15\n",
            "Multiplication 5*3: 15\n",
            "Floor Division 15//5: 3\n",
            "Subtraction 5-3: 2\n",
            "Division 15/5: 3.0\n",
            "Modulo(Remainder) 2%15: 2\n",
            "Exponentiation 5**2: 25\n"
          ]
        }
      ],
      "source": [
        "print(\"This is my 3rd Python session. \\n- learning Operators in Python as on 24/09/2022 \\n\")\n",
        "\n",
        "\n",
        "class color:\n",
        "   PURPLE = '\\033[95m'\n",
        "   CYAN = '\\033[96m'\n",
        "   DARKCYAN = '\\033[36m'\n",
        "   BLUE = '\\033[94m'\n",
        "   GREEN = '\\033[92m'\n",
        "   YELLOW = '\\033[93m'\n",
        "   RED = '\\033[91m'\n",
        "   BOLD = '\\033[1m'\n",
        "   UNDERLINE = '\\033[4m'\n",
        "   END = '\\033[0m'\n",
        "\n",
        "print(f\"\", color.PURPLE + \"Multiplication 5*3:\" + color.END, 5*3 )\n",
        "print\n",
        "\n",
        "\"\"\" Operators \"\"\"\n",
        "\n",
        "# A. + Addition\n",
        "# B. - Subtraction\n",
        "# C. * Multiplication\n",
        "# D. / Division\n",
        "# E. % Modulo\n",
        "# F. ** Exponentiation (Division)\n",
        "# G. // Floor division\n",
        "\n",
        "print(f\"Multiplication 5*3:\", 5*3)\n",
        "print(f\"Floor Division 15//5:\", 15//5)\n",
        "print(f\"Subtraction 5-3:\", 5-3)\n",
        "print(f\"Division 15/5:\", 15/5)\n",
        "print(f\"Modulo(Remainder) 2%15:\", 2%15)\n",
        "print(f\"Exponentiation 5**2:\", 5**2)"
      ]
    }
  ],
  "metadata": {
    "colab": {
      "collapsed_sections": [],
      "provenance": []
    },
    "kernelspec": {
      "display_name": "Python 3",
      "name": "python3"
    },
    "language_info": {
      "name": "python"
    }
  },
  "nbformat": 4,
  "nbformat_minor": 0
}