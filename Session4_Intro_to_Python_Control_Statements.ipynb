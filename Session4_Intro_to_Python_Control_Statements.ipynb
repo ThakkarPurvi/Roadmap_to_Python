{
  "nbformat": 4,
  "nbformat_minor": 0,
  "metadata": {
    "colab": {
      "provenance": []
    },
    "kernelspec": {
      "name": "python3",
      "display_name": "Python 3"
    },
    "language_info": {
      "name": "python"
    }
  },
  "cells": [
    {
      "cell_type": "code",
      "source": [
        "print(\"This is my 4th Python session. \\n- learning Control Statements in Python as on 27/09/2022 \\n\")"
      ],
      "metadata": {
        "id": "9qk76hYpnKZW"
      },
      "execution_count": null,
      "outputs": []
    },
    {
      "cell_type": "code",
      "source": [
        "x = 10\n",
        "\n",
        "x += 5 # 15\n",
        "x %= 7 # 1\n",
        "x *= 3 # 3\n"
      ],
      "metadata": {
        "colab": {
          "base_uri": "https://localhost:8080/"
        },
        "id": "2FYxOg0hnTf9",
        "outputId": "c8a256c7-f2a1-45c1-c6c1-f79a5c4ea4c1"
      },
      "execution_count": null,
      "outputs": [
        {
          "output_type": "execute_result",
          "data": {
            "text/plain": [
              "1"
            ]
          },
          "metadata": {},
          "execution_count": 26
        }
      ]
    },
    {
      "cell_type": "code",
      "source": [
        "# Modulo (remainder)\n",
        "10%4"
      ],
      "metadata": {
        "colab": {
          "base_uri": "https://localhost:8080/"
        },
        "id": "zWMAuijYuGvj",
        "outputId": "8536375f-5ad1-4d40-9de0-6faf6e4149d6"
      },
      "execution_count": null,
      "outputs": [
        {
          "output_type": "execute_result",
          "data": {
            "text/plain": [
              "2"
            ]
          },
          "metadata": {},
          "execution_count": 28
        }
      ]
    },
    {
      "cell_type": "code",
      "source": [
        "# Floor division (quotient)\n",
        "20//8"
      ],
      "metadata": {
        "colab": {
          "base_uri": "https://localhost:8080/"
        },
        "id": "PzM6b83KuXlb",
        "outputId": "77ff1e18-8311-4566-fa50-0c2de35c8b9e"
      },
      "execution_count": null,
      "outputs": [
        {
          "output_type": "execute_result",
          "data": {
            "text/plain": [
              "2"
            ]
          },
          "metadata": {},
          "execution_count": 29
        }
      ]
    },
    {
      "cell_type": "markdown",
      "source": [
        "# Control Statements\n",
        "\n",
        "  *A. Conditional statements* \n",
        "\n",
        "    1. if statement\n",
        "    2. if-else\n",
        "    3. if-elif-else\n",
        "    4. nested if-else\n",
        "\n",
        "  *B. Iterative statements*\n",
        "\n",
        "    1. for loop\n",
        "    2. while loop\n",
        "\n",
        "  *C. Transfer statements*\n",
        "\n",
        "    1. break statement\n",
        "    2. continue statement\n",
        "    3. pass statements\n",
        "\n",
        "**Logical Operator**\n",
        "\n",
        "- Combine Signals / multiple conditions\n",
        "        - and\n",
        "        - or\n",
        "        - not \n",
        "for example:\n",
        "      x = input() # Input is Raining\n",
        "        print(x == \"Raining\")\n",
        "        print True\n",
        "\n",
        "example for AND: Here, both condition need to be true.\n",
        "\n",
        "        x = input() # Input is Raining\n",
        "          print(x == \"Raining\" and y < 30)\n",
        "          print True\n",
        "example for OR: Here, any one condition is true answer will be true.\n",
        "\n",
        "        x = input() # Input is Raining\n",
        "          print(x == \"Raining\" or y < 30)\n",
        "          print True\n",
        "\n",
        "example for NOT: Here, it reverses or negates the results.\n",
        " \n"
      ],
      "metadata": {
        "id": "tUuQjp-zANDJ"
      }
    },
    {
      "cell_type": "code",
      "source": [
        "True and False or False"
      ],
      "metadata": {
        "colab": {
          "base_uri": "https://localhost:8080/"
        },
        "id": "eQWBNSP25Hn0",
        "outputId": "f1bfe968-0632-48aa-8416-666e6517c048"
      },
      "execution_count": 56,
      "outputs": [
        {
          "output_type": "execute_result",
          "data": {
            "text/plain": [
              "False"
            ]
          },
          "metadata": {},
          "execution_count": 56
        }
      ]
    },
    {
      "cell_type": "code",
      "source": [
        "# Conditional Statement\n",
        "\n",
        "# weather = input()\n",
        "# if weather ==\"Sunny\":\n",
        "#   print(\"Go for a picnic\")\n",
        "# else:\n",
        "#   print(\"Not a great weather\")\n",
        "\n",
        "\n",
        "weather = input(\"How is the weather today?\")\n",
        "if weather == \"Sunny\":\n",
        "  print(\"Go for a picnic\")\n",
        "if weather == \"Rainy\":\n",
        "  print(\"carry an Umbrella\")\n",
        "else:\n",
        "  print(\"Not a great weather\")\n",
        "  "
      ],
      "metadata": {
        "colab": {
          "base_uri": "https://localhost:8080/"
        },
        "id": "GeSLOm4p52I5",
        "outputId": "215bdc2c-9606-4dd1-8e68-e8c26d9af72d"
      },
      "execution_count": 62,
      "outputs": [
        {
          "output_type": "stream",
          "name": "stdout",
          "text": [
            "How is the weather today?Sunny\n",
            "Go for a picnic\n",
            "Not a great weather\n"
          ]
        }
      ]
    },
    {
      "cell_type": "code",
      "source": [
        "# Login Page \n",
        "\n",
        "username = \"admin\"\n",
        "password = \"password\"\n",
        "\n",
        "user = input(\"Enter username:\")\n",
        "password = input(\"Enter password:\")\n",
        "\n",
        "if user == username and password == password:\n",
        "  print(\"\\n************************\\nWelcome your home page!\\n************************\")\n",
        "else: \n",
        "  print(\"Incorrect credential\")"
      ],
      "metadata": {
        "colab": {
          "base_uri": "https://localhost:8080/"
        },
        "id": "xGQsYW9N62wT",
        "outputId": "76ffe097-c921-4478-d064-36222fd7f4db"
      },
      "execution_count": 67,
      "outputs": [
        {
          "output_type": "stream",
          "name": "stdout",
          "text": [
            "Enter username:admin\n",
            "Enter password:password\n",
            "\n",
            "************************\n",
            "Welcome your home page!\n",
            "************************\n"
          ]
        }
      ]
    },
    {
      "cell_type": "code",
      "source": [
        "True or False and False "
      ],
      "metadata": {
        "colab": {
          "base_uri": "https://localhost:8080/"
        },
        "id": "DvlXsBtv5RU6",
        "outputId": "7648fe2c-10f3-4436-aac8-1df7fc6a54b6"
      },
      "execution_count": 58,
      "outputs": [
        {
          "output_type": "execute_result",
          "data": {
            "text/plain": [
              "True"
            ]
          },
          "metadata": {},
          "execution_count": 58
        }
      ]
    },
    {
      "cell_type": "code",
      "source": [
        "username = \"admin\"\n",
        "passw = \"password\"\n",
        "\n",
        "user = input(\"Enter username:\")\n",
        "\n",
        "if user == username:\n",
        "  print(\"Username correct, Now enter your\")\n",
        "  password = input(\"Enter password:\")\n",
        "  if passw == password:\n",
        "    print(\"\\n************************\\nWelcome to the home page!\\n************************\")\n",
        "  else:\n",
        "    print(\"Incorrect credential\")\n",
        "else:\n",
        "    print(\"Incorrect credential\")\n",
        "\n"
      ],
      "metadata": {
        "colab": {
          "base_uri": "https://localhost:8080/"
        },
        "id": "-kaBH7Cu8Hkk",
        "outputId": "0a1aea12-fbfb-45df-813d-8ca41e08d562"
      },
      "execution_count": 80,
      "outputs": [
        {
          "output_type": "stream",
          "name": "stdout",
          "text": [
            "Enter username:admin\n",
            "Username correct, Now enter your\n",
            "Enter password:password\n",
            "\n",
            "************************\n",
            "Welcome to the home page!\n",
            "************************\n"
          ]
        }
      ]
    },
    {
      "cell_type": "markdown",
      "source": [],
      "metadata": {
        "id": "46sNllQ_ArsA"
      }
    }
  ]
}